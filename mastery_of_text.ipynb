{
 "cells": [
  {
   "cell_type": "code",
   "execution_count": 2,
   "id": "6db4fb82-a2c6-4d74-ba5e-91b282ed2378",
   "metadata": {},
   "outputs": [
    {
     "name": "stdout",
     "output_type": "stream",
     "text": [
      "Number of lines: 99968\n",
      "Number of words: 667621\n",
      "Number of occurrences of 'apostle' (case-insensitive): 113\n",
      "Most common word: the\n"
     ]
    }
   ],
   "source": [
    "from urllib.request import urlopen\n",
    "\n",
    "# Function to fetch the text from the URL and clean it\n",
    "def fetch_text(url):\n",
    "  response = urlopen(url)\n",
    "  pg10 = response.read().decode('utf-8')\n",
    "  return pg10\n",
    "\n",
    "# Fetch the text from Project Gutenberg\n",
    "url = \"https://www.gutenberg.org/cache/epub/10/pg10.txt\"\n",
    "pg10 = fetch_text(url)\n",
    "\n",
    "# Function to count lines\n",
    "def count_lines(text):\n",
    "  return len(text.splitlines())\n",
    "\n",
    "# Function to count words\n",
    "def count_words(text):\n",
    "  # Split the text into words, removing any punctuation\n",
    "  words = [word.strip().lower() for word in text.split() if word.isalpha()]\n",
    "  return len(words)\n",
    "\n",
    "# Function to count word occurrences (case-insensitive)\n",
    "def count_word_occurrences(text, word):\n",
    "  # Lowercase the text and word for case-insensitive comparison\n",
    "  text = text.lower()\n",
    "  word = word.lower()\n",
    "  return text.count(word)\n",
    "\n",
    "# Function to find the most common word\n",
    "def find_most_common_word(text):\n",
    "  # Split the text into words, removing any punctuation and lowering them\n",
    "  words = [word.strip().lower() for word in text.split() if word.isalpha()]\n",
    "  # Create a dictionary to store word counts\n",
    "  word_counts = {}\n",
    "  for word in words:\n",
    "    if word in word_counts:\n",
    "      word_counts[word] += 1\n",
    "    else:\n",
    "      word_counts[word] = 1\n",
    "  # Find the word with the maximum count\n",
    "  most_common_word = max(word_counts, key=word_counts.get)\n",
    "  return most_common_word\n",
    "\n",
    "# Count the lines\n",
    "number_of_lines = count_lines(pg10)\n",
    "\n",
    "# Count the words\n",
    "number_of_words = count_words(pg10)\n",
    "\n",
    "# Count occurrences of \"apostle\" (case-insensitive)\n",
    "apostle_count = count_word_occurrences(pg10, \"apostle\")\n",
    "\n",
    "# Find the most common word\n",
    "most_common_word = find_most_common_word(pg10)\n",
    "\n",
    "# Print the results\n",
    "print(\"Number of lines:\", number_of_lines)\n",
    "print(\"Number of words:\", number_of_words)\n",
    "print(\"Number of occurrences of 'apostle' (case-insensitive):\", apostle_count)\n",
    "print(\"Most common word:\", most_common_word)"
   ]
  },
  {
   "cell_type": "code",
   "execution_count": null,
   "id": "4305bdf6-dd02-472f-b0b1-3a29a841b528",
   "metadata": {},
   "outputs": [],
   "source": []
  }
 ],
 "metadata": {
  "kernelspec": {
   "display_name": "Python 3 (ipykernel)",
   "language": "python",
   "name": "python3"
  },
  "language_info": {
   "codemirror_mode": {
    "name": "ipython",
    "version": 3
   },
   "file_extension": ".py",
   "mimetype": "text/x-python",
   "name": "python",
   "nbconvert_exporter": "python",
   "pygments_lexer": "ipython3",
   "version": "3.11.7"
  }
 },
 "nbformat": 4,
 "nbformat_minor": 5
}
